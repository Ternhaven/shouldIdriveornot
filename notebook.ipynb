{
 "cells": [
  {
   "cell_type": "code",
   "execution_count": 1,
   "id": "8a835753-d510-4cdc-a41d-bf9f060b4c33",
   "metadata": {},
   "outputs": [],
   "source": [
    "import requests\n",
    "from matplotlib import pyplot as plt\n",
    "from bs4 import BeautifulSoup"
   ]
  },
  {
   "cell_type": "code",
   "execution_count": 2,
   "id": "f759c7c1-dbfe-42b1-a95e-18f3b36c911f",
   "metadata": {},
   "outputs": [],
   "source": [
    "def gasoline_price():\n",
    "    \"\"\"Gets current gasoline price in Swedish Krona\"\"\"\n",
    "    try:\n",
    "        page = requests.get('https://www.globalpetrolprices.com/Sweden/gasoline_prices/')\n",
    "        soup = BeautifulSoup(page.content, 'html.parser')\n",
    "        body = soup.body\n",
    "        table = body.find('div', {'id': 'contentHolder'}).table\n",
    "        entries = table.tbody.find_all('tr')\n",
    "        # Scraped cost in liters\n",
    "        cost_liters = [float(entry.find_all('td')[0].text) for entry in entries]\n",
    "\n",
    "        return cost_liters[0]\n",
    "    except:\n",
    "        return None"
   ]
  },
  {
   "cell_type": "code",
   "execution_count": 3,
   "id": "df8b2710-6b86-443d-8b54-782f953fe4d0",
   "metadata": {},
   "outputs": [],
   "source": [
    "def electricity_price():\n",
    "    \"\"\"Gets current electricity price in Swedish Krona\"\"\"\n",
    "    try:\n",
    "        page = requests.get('https://www.vattenfall.se/elavtal/elmarknaden/elmarknaden-just-nu/')\n",
    "        soup = BeautifulSoup(page.content, 'html.parser')\n",
    "        body = soup.body\n",
    "        tbody = body.find('table').tbody\n",
    "        entries = tbody.find_all('tr')\n",
    "        data = entries[1:]\n",
    "        # Scraped Values\n",
    "        prices_2022 = [datum.find_all('td')[1].text for datum in data]\n",
    "        prices_as_float = [float(price.split()[0].replace(',', '.')) for price in prices_2022]\n",
    "        max_price_sek = max(prices_as_float) / 100\n",
    "\n",
    "        return max_price_sek\n",
    "    except:\n",
    "        return None"
   ]
  },
  {
   "cell_type": "code",
   "execution_count": 4,
   "id": "419524fe-b2e9-4aaa-92cb-28b6f0479eae",
   "metadata": {
    "jupyter": {
     "source_hidden": true
    },
    "tags": []
   },
   "outputs": [],
   "source": [
    "def gasoline_cost_sek(dist, sekpl=20.0, kmpl=9.4):\n",
    "    \"\"\"Gets cost of commute via car in Swedish Krona.\n",
    "    Inputs:\n",
    "        dist: distance in kilometers (numeric)\n",
    "        sekpl: Swedish Krona (SEK) per liter (L). Obtained from gasoline_price() function.\n",
    "        kmpl: Kilometers (km) per liter (L). (Fuel efficiency)\n",
    "        \n",
    "    kmpl estimation from: \n",
    "        https://www.bts.gov/content/average-fuel-efficiency-us-passenger-cars-and-light-trucks\n",
    "    \"\"\"\n",
    "    return sekpl * dist / kmpl"
   ]
  },
  {
   "cell_type": "code",
   "execution_count": 5,
   "id": "417444a2-dd2c-43db-8624-7b7859ecd2a0",
   "metadata": {},
   "outputs": [],
   "source": [
    "def electricity_cost_sek(dist, sekpkwh=.85, kmpkwh=100):\n",
    "    \"\"\"Gets cost of commute via ebike in Swedish Krona.\n",
    "    Inputs:\n",
    "        dist: distance in kilometers (numeric)\n",
    "        sekpkwh: Swedish Krona (SEK) per kilowatt-hour (kWh). Obtained from electricity_price() function.\n",
    "        kmpkwh: Kilometers (km) per kilowatt-hour (kWh).\n",
    "        \n",
    "    ebikes: 80-100 kilometers per kWh?\n",
    "        https://www.ebikejourney.com/ebike/\n",
    "    \"\"\"\n",
    "    return sekpkwh * dist / kmpkwh"
   ]
  },
  {
   "cell_type": "code",
   "execution_count": 40,
   "id": "36297d69-3583-4332-827a-fe51d5550160",
   "metadata": {},
   "outputs": [],
   "source": [
    "def circle_plot(dist, gas_price, elec_price, kmpl=9.4, kmpkwh=100):\n",
    "    \"\"\"Generates a plot where the area of each circle is proportional to the cost of the commute.\"\"\"\n",
    "    gas_cost = gasoline_cost_sek(dist, gas_price, kmpl)\n",
    "    elec_cost = electricity_cost_sek(dist, elec_price, kmpkwh)\n",
    "\n",
    "    radius_g = gas_cost**.5\n",
    "    radius_e = elec_cost**.5\n",
    "    circle_g = plt.Circle((radius_g, radius_g), radius_g, color='r', label='gasoline cost', alpha=0.8)\n",
    "    circle_e = plt.Circle((0.7*radius_g, 0.7*radius_g), radius_e, color='g', label='electricity cost', alpha=0.8)\n",
    "\n",
    "    fig, ax = plt.subplots()\n",
    "    ax.set_xlim([0, 2.02*radius_g])\n",
    "    ax.set_ylim([0, 2.05*radius_g])\n",
    "    ax.add_patch(circle_g)\n",
    "    ax.add_patch(circle_e)\n",
    "    ax.axis('off')\n",
    "    ax.legend()\n",
    "    plt.savefig('circleplot.png', transparent=True)"
   ]
  },
  {
   "cell_type": "code",
   "execution_count": 7,
   "id": "53f6632c-5baa-4a93-8f0f-208ec2414c9d",
   "metadata": {},
   "outputs": [],
   "source": [
    "elec_price = electricity_price() or 0.85\n",
    "gas_price = gasoline_price() or 20.0"
   ]
  },
  {
   "cell_type": "code",
   "execution_count": 41,
   "id": "a03f0c44-c231-4b4b-bb5a-9a97fcdbf394",
   "metadata": {},
   "outputs": [
    {
     "data": {
      "image/png": "[encoded data removed]",
      "text/plain": [
       "<Figure size 432x288 with 1 Axes>"
      ]
     },
     "metadata": {
      "needs_background": "light"
     },
     "output_type": "display_data"
    }
   ],
   "source": [
    "circle_plot(50, gas_price, elec_price)"
   ]
  },
  {
   "cell_type": "code",
   "execution_count": null,
   "id": "48151ff0-1f42-41b9-ab04-c73fa89eedb8",
   "metadata": {},
   "outputs": [],
   "source": []
  }
 ],
 "metadata": {
  "kernelspec": {
   "display_name": "Python 3 (ipykernel)",
   "language": "python",
   "name": "python3"
  },
  "language_info": {
   "codemirror_mode": {
    "name": "ipython",
    "version": 3
   },
   "file_extension": ".py",
   "mimetype": "text/x-python",
   "name": "python",
   "nbconvert_exporter": "python",
   "pygments_lexer": "ipython3",
   "version": "3.10.2"
  }
 },
 "nbformat": 4,
 "nbformat_minor": 5
}
